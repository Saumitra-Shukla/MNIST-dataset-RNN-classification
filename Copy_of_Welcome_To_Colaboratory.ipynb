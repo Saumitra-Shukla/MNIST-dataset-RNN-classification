{
  "nbformat": 4,
  "nbformat_minor": 0,
  "metadata": {
    "colab": {
      "name": "Copy of Welcome To Colaboratory",
      "version": "0.3.2",
      "provenance": [],
      "collapsed_sections": [],
      "include_colab_link": true
    },
    "kernelspec": {
      "name": "python3",
      "display_name": "Python 3"
    },
    "accelerator": "GPU"
  },
  "cells": [
    {
      "cell_type": "markdown",
      "metadata": {
        "id": "view-in-github",
        "colab_type": "text"
      },
      "source": [
        "<a href=\"https://colab.research.google.com/github/Saumitra-Shukla/MNIST-dataset-RNN-classification/blob/master/Copy_of_Welcome_To_Colaboratory.ipynb\" target=\"_parent\"><img src=\"https://colab.research.google.com/assets/colab-badge.svg\" alt=\"Open In Colab\"/></a>"
      ]
    },
    {
      "cell_type": "markdown",
      "metadata": {
        "colab_type": "text",
        "id": "P-H6Lw1vyNNd"
      },
      "source": [
        "## Machine Learning Examples: Seedbank\n",
        "\n",
        "To see end-to-end examples of the interactive machine learning analyses that Colaboratory makes possible, check out the [Seedbank](https://research.google.com/seedbank/) project.\n",
        "\n",
        "A few featured examples:\n",
        "\n",
        "- [Neural Style Transfer](https://research.google.com/seedbank/seed/neural_style_transfer_with_tfkeras): Use deep learning to transfer style between images.\n",
        "- [EZ NSynth](https://research.google.com/seedbank/seed/ez_nsynth): Synthesize audio with WaveNet auto-encoders.\n",
        "- [Fashion MNIST with Keras and TPUs](https://research.google.com/seedbank/seed/fashion_mnist_with_keras_and_tpus): Classify fashion-related images with deep learning.\n",
        "- [DeepDream](https://research.google.com/seedbank/seed/deepdream): Produce DeepDream images from your own photos.\n",
        "- [Convolutional VAE](https://research.google.com/seedbank/seed/convolutional_vae): Create a generative model of handwritten digits."
      ]
    },
    {
      "cell_type": "code",
      "metadata": {
        "id": "L58rAKrixpNW",
        "colab_type": "code",
        "colab": {}
      },
      "source": [
        "import tensorflow as tf\n",
        "from tensorflow.keras.models import Sequential\n",
        "from tensorflow.keras.layers import Dense,Dropout,LSTM"
      ],
      "execution_count": 0,
      "outputs": []
    },
    {
      "cell_type": "code",
      "metadata": {
        "id": "czr3Gypqi2oO",
        "colab_type": "code",
        "colab": {}
      },
      "source": [
        "!pip install tf-nightly-gpu-2.0-preview"
      ],
      "execution_count": 0,
      "outputs": []
    },
    {
      "cell_type": "code",
      "metadata": {
        "id": "u3mjxPP9xpsd",
        "colab_type": "code",
        "colab": {}
      },
      "source": [
        "mnist=tf.keras.datasets.mnist\n",
        "(x_train, y_train), (x_test, y_test)=mnist.load_data()\n",
        "x_train=x_train/255.0\n",
        "x_test=x_test/255.0\n"
      ],
      "execution_count": 0,
      "outputs": []
    },
    {
      "cell_type": "code",
      "metadata": {
        "id": "U6V60peMy16J",
        "colab_type": "code",
        "colab": {}
      },
      "source": [
        "\n",
        "model=Sequential()\n",
        "model.add(LSTM(128,input_shape=(x_train.shape[1:]),activation='relu',\n",
        "               return_sequences=True)) \n",
        "model.add(Dropout(0.2))\n",
        "  \n",
        "model.add(LSTM(128,activation='relu'))\n",
        "model.add(Dropout(0.2))\n",
        "  \n",
        "model.add(Dense(32,activation='relu'))\n",
        "model.add(Dropout(0.2))\n",
        "  \n",
        "model.add(Dense(10,activation='softmax'))\n",
        "  \n",
        "opt =tf.keras.optimizers.Adam(lr=1e-3, decay=1e-5)\n",
        "\n",
        "model.compile(loss='sparse_categorical_crossentropy',optimizer=opt,\n",
        "                metrics=['accuracy'])\n",
        "model.fit(x_train,y_train,epochs=3,validation_data=(x_test,y_test))\n",
        "  \n",
        "#model_save_name = 'classifier.pt'\n",
        "#path = F\"/content/gdrive/My Drive/machine-learning/{model_save_name}\" \n",
        "#model.save(model.state_dict(), path)\n",
        "\n",
        "\n",
        " \n"
      ],
      "execution_count": 0,
      "outputs": []
    }
  ]
}